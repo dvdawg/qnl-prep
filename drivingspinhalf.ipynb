{
 "cells": [
  {
   "cell_type": "markdown",
   "metadata": {},
   "source": [
    "Imports"
   ]
  },
  {
   "cell_type": "code",
   "execution_count": 1,
   "metadata": {},
   "outputs": [],
   "source": [
    "%matplotlib qtagg\n",
    "\n",
    "import numpy as np\n",
    "from scipy import constants\n",
    "import matplotlib.pyplot as plt\n",
    "from qutip import * \n",
    "import qutip as qt"
   ]
  },
  {
   "cell_type": "markdown",
   "metadata": {},
   "source": [
    "System parameters"
   ]
  },
  {
   "cell_type": "code",
   "execution_count": 4,
   "metadata": {},
   "outputs": [],
   "source": [
    "omega_q = 5 \n",
    "A = 1\n",
    "omega_d = omega_q\n",
    "phi = 0.7\n",
    "alpha = 1/2\n",
    "beta =  np.sqrt(3) / 2\n",
    "t_list = np.linspace(0, 100, 100)\n",
    "\n",
    "Omega = A * constants.e**(1j * phi)\n",
    "H_rwa = (1/2) * (create(2) * Omega + destroy(2) * np.conj(Omega))"
   ]
  },
  {
   "cell_type": "code",
   "execution_count": 5,
   "metadata": {},
   "outputs": [],
   "source": [
    "def qubit_time_evolution_qutip(hamiltonian, alpha, beta, tlist):\n",
    "    norm = np.sqrt(abs(alpha)**2 + abs(beta)**2)\n",
    "    alpha, beta = alpha / norm, beta / norm\n",
    "    \n",
    "    initial_state = alpha * basis(2, 0) + beta * basis(2, 1)\n",
    "    \n",
    "    result = sesolve(hamiltonian, initial_state, tlist)\n",
    "\n",
    "    bloch = Bloch()\n",
    "    bloch.add_states(result.states)\n",
    "    \n",
    "    bloch.make_sphere()\n",
    "    plt.show()\n",
    "\n",
    "qubit_time_evolution_qutip(H_rwa, alpha, beta, t_list)\n"
   ]
  }
 ],
 "metadata": {
  "kernelspec": {
   "display_name": "base",
   "language": "python",
   "name": "python3"
  },
  "language_info": {
   "codemirror_mode": {
    "name": "ipython",
    "version": 3
   },
   "file_extension": ".py",
   "mimetype": "text/x-python",
   "name": "python",
   "nbconvert_exporter": "python",
   "pygments_lexer": "ipython3",
   "version": "3.12.7"
  }
 },
 "nbformat": 4,
 "nbformat_minor": 2
}
