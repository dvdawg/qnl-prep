{
 "cells": [
  {
   "cell_type": "code",
   "execution_count": null,
   "metadata": {},
   "outputs": [],
   "source": [
    "%matplotlib qtagg\n",
    "\n",
    "import numpy as np\n",
    "from scipy import constants\n",
    "import matplotlib.pyplot as plt\n",
    "from matplotlib.gridspec import GridSpec\n",
    "from qutip import * \n",
    "import qutip as qt"
   ]
  },
  {
   "cell_type": "code",
   "execution_count": null,
   "metadata": {},
   "outputs": [],
   "source": [
    "Omega = 1.0 \n",
    "\n",
    "delta = np.linspace(-3, 3, 500) \n",
    "\n",
    "E_plus = -0.5 * delta + 0.5 * np.sqrt(delta**2 + 1)\n",
    "E_minus = -0.5 * delta - 0.5 * np.sqrt(delta**2 + 1)\n",
    "\n",
    "plt.figure(figsize=(8, 6))\n",
    "plt.plot(delta, E_plus, label=r\"$E_+$\", color=\"blue\")\n",
    "plt.plot(delta, E_minus, label=r\"$E_-$\", color=\"red\")\n",
    "\n",
    "plt.title(\"Eigenfrequencies of a Two-Level System\", fontsize=16)\n",
    "plt.xlabel(r\"Normalized Detuning $\\Delta/\\Omega$\", fontsize=14)\n",
    "plt.ylabel(r\"Eigenfrequencies $E / (\\hbar \\Omega)$\", fontsize=14)\n",
    "\n",
    "plt.axhline(0, color=\"black\", linestyle=\"--\", linewidth=0.8)\n",
    "plt.axvline(0, color=\"black\", linestyle=\"--\", linewidth=0.8)\n",
    "plt.legend(fontsize=12)\n",
    "plt.grid(alpha=0.3)\n",
    "\n",
    "plt.tight_layout()\n",
    "plt.show()\n"
   ]
  }
 ],
 "metadata": {
  "kernelspec": {
   "display_name": "base",
   "language": "python",
   "name": "python3"
  },
  "language_info": {
   "name": "python",
   "version": "3.12.7"
  }
 },
 "nbformat": 4,
 "nbformat_minor": 2
}
