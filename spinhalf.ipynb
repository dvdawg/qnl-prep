{
 "cells": [
  {
   "cell_type": "code",
   "execution_count": 1,
   "metadata": {},
   "outputs": [],
   "source": [
    "%matplotlib qtagg\n",
    "\n",
    "import numpy as np\n",
    "from scipy import constants\n",
    "import matplotlib.pyplot as plt\n",
    "from qutip import * \n",
    "import qutip as qt"
   ]
  },
  {
   "cell_type": "code",
   "execution_count": null,
   "metadata": {},
   "outputs": [],
   "source": [
    "# params\n",
    "omega_q = 5.0\n",
    "omega_d = 5.0\n",
    "A = 0.063\n",
    "phi = 0\n",
    "alpha = 1\n",
    "beta = 0\n",
    "\n",
    "# normalize and define psi_0\n",
    "norm = np.sqrt(alpha * alpha + beta * beta)\n",
    "alpha = alpha / norm\n",
    "beta = beta / norm\n",
    "psi_0 = alpha * basis(2, 0) + beta * basis(2, 1)\n",
    "\n",
    "# substitution variables\n",
    "Omega = A * np.cos(phi) + A * 1j * np.sin(phi) # Omega = e^(i * phi)\n",
    "\n",
    "# Hamiltonians and time dependent functions\n",
    "def driving(t, args):\n",
    "    return  A * np.cos(omega_d * t + phi)\n",
    "\n",
    "def counter_plus(t, args):\n",
    "    return np.cos(2 * omega_d * t) + 1j * np.sin(2 * omega_d * t)\n",
    "\n",
    "def counter_minus(t, args):\n",
    "    return np.cos(2 * omega_d * t) - 1j * np.sin(2 * omega_d * t)\n",
    "\n",
    "\n",
    "H0 = (omega_q * sigmaz()) / 2\n",
    "H1 = sigmax()\n",
    "H_lab = [H0, [H1, driving]] # lab frame hamiltonian\n",
    "\n",
    "H_rwa = (1/2) * Omega * create(2) + (1/2) * np.conj(Omega) * destroy(2) # RWA hamiltonian in qubit frame (rotating frame)\n",
    "\n",
    "H_counter_plus = (1/2) * Omega * create(2)\n",
    "H_counter_minus = (1/2) * np.conj(Omega) * destroy(2)\n",
    "H_qubit = [H_rwa, [H_counter_plus, counter_plus], [H_counter_minus, counter_minus]] # hamiltonian in qubit frame with counter-rotating terms\n",
    "\n",
    "H_offres = [(omega_q - omega_d) * sigmaz(), H_rwa, [H_counter_plus, counter_plus], [H_counter_minus, counter_minus]]\n",
    "# time variable\n",
    "t_list = np.linspace(0, 100, 1000)"
   ]
  },
  {
   "cell_type": "code",
   "execution_count": 131,
   "metadata": {},
   "outputs": [],
   "source": [
    "def plot_bloch():\n",
    "    fig = plt.figure()\n",
    "    ax = fig.add_subplot(projection='3d')\n",
    "    ax.set_xlim(-1, 1)\n",
    "    ax.set_ylim(-1, 1)\n",
    "    ax.set_zlim(-1, 1)\n",
    " \n",
    "    result = sesolve(H_offres, psi_0, t_list)\n",
    "    \n",
    "    alpha = [result.states[i][0] for i in range(len(result.states))]\n",
    "    beta = [result.states[i][1] for i in range(len(result.states))]\n",
    "\n",
    "    x = 2 * np.real(np.conjugate(alpha) * beta)\n",
    "    y = 2 * np.imag(np.conjugate(alpha) * beta)\n",
    "    z = alpha * np.conjugate(alpha) - beta * np.conjugate(beta)\n",
    "\n",
    "    ax.plot(x, y, z, label='qubit')\n",
    "\n",
    "    phi, theta = np.linspace(0, 2 * np.pi, 50), np.linspace(0, np.pi, 50)\n",
    "    phi, theta = np.meshgrid(phi, theta)\n",
    "    sp_x = np.sin(theta) * np.cos(phi)\n",
    "    sp_y = np.sin(theta) * np.sin(phi)\n",
    "    sp_z = np.cos(theta)\n",
    "\n",
    "    ax.plot_wireframe(sp_x, sp_y, sp_z, rstride=4, cstride=4, color='#d3d3d3', edgecolor='k', alpha=0.3)\n",
    "    ax.text(0, 0, 1.2, '|0⟩')\n",
    "    ax.text(0, 0, -1.2, '|1⟩')\n",
    "    \n",
    "    plt.title(\"Qubit Bloch Sphere\")\n",
    "    plt.show()\n",
    "\n",
    "plot_bloch()"
   ]
  },
  {
   "cell_type": "code",
   "execution_count": 96,
   "metadata": {},
   "outputs": [],
   "source": [
    "def plot_bloch_qutip():\n",
    "    result = sesolve(H, psi_0, t_list)\n",
    "\n",
    "    bloch = Bloch()\n",
    "    bloch.add_states(result.states)\n",
    "    \n",
    "    bloch.make_sphere()\n",
    "    plt.title(\"Qubit Bloch Sphere\")\n",
    "    plt.show()\n",
    "\n",
    "plot_bloch_qutip()"
   ]
  }
 ],
 "metadata": {
  "kernelspec": {
   "display_name": "base",
   "language": "python",
   "name": "python3"
  },
  "language_info": {
   "codemirror_mode": {
    "name": "ipython",
    "version": 3
   },
   "file_extension": ".py",
   "mimetype": "text/x-python",
   "name": "python",
   "nbconvert_exporter": "python",
   "pygments_lexer": "ipython3",
   "version": "3.12.7"
  }
 },
 "nbformat": 4,
 "nbformat_minor": 2
}
