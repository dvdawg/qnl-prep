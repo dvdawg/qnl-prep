{
 "cells": [
  {
   "cell_type": "code",
   "execution_count": 1,
   "metadata": {},
   "outputs": [],
   "source": [
    "import numpy as np\n",
    "import matplotlib.pyplot as plt\n",
    "from qutip import *"
   ]
  },
  {
   "cell_type": "code",
   "execution_count": null,
   "metadata": {},
   "outputs": [],
   "source": [
    "omega = 1.0 # H = omega * sigma_z\n",
    "alpha = 0\n",
    "beta = 1  # psi = alpha |0> + beta |1>\n",
    "\n",
    "t_list = np.linspace(0, 400)  # time points\n",
    "\n",
    "H = omega * sigmaz()\n",
    "psi0 = alpha * basis(2, 0) + beta * basis(2, 1)  # Initial state in Qobj form"
   ]
  },
  {
   "cell_type": "code",
   "execution_count": 3,
   "metadata": {},
   "outputs": [],
   "source": [
    "result = mesolve(H, psi0, t_list, [], [])"
   ]
  },
  {
   "cell_type": "code",
   "execution_count": null,
   "metadata": {},
   "outputs": [],
   "source": [
    "b = Bloch()\n",
    "for state in result.states:\n",
    "    rho = state.proj()\n",
    "    x = np.real(rho[1, 0] + rho[0, 1])\n",
    "    y = np.imag(rho[1, 0] - rho[0, 1])\n",
    "    z = np.real(rho[0, 0] - rho[1, 1])\n",
    "    \n",
    "\n",
    "    b.add_points([x, y, z])\n",
    "    b.make_sphere()\n",
    "# b.make_sphere()\n",
    "plt.show()"
   ]
  }
 ],
 "metadata": {
  "kernelspec": {
   "display_name": ".venv",
   "language": "python",
   "name": "python3"
  },
  "language_info": {
   "codemirror_mode": {
    "name": "ipython",
    "version": 3
   },
   "file_extension": ".py",
   "mimetype": "text/x-python",
   "name": "python",
   "nbconvert_exporter": "python",
   "pygments_lexer": "ipython3",
   "version": "3.9.6"
  }
 },
 "nbformat": 4,
 "nbformat_minor": 2
}
