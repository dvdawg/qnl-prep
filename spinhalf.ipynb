{
 "cells": [
  {
   "cell_type": "code",
   "execution_count": null,
   "metadata": {},
   "outputs": [],
   "source": [
    "%matplotlib qtagg\n",
    "\n",
    "import numpy as np\n",
    "from scipy import constants\n",
    "import matplotlib.pyplot as plt\n",
    "from qutip import * \n",
    "import qutip as qt"
   ]
  },
  {
   "cell_type": "code",
   "execution_count": null,
   "metadata": {},
   "outputs": [],
   "source": [
    "# params\n",
    "omega_q = 1.0\n",
    "omega_d = 1.5\n",
    "A = 0.1\n",
    "phi = 0\n",
    "alpha = 1\n",
    "beta = 1"
   ]
  },
  {
   "cell_type": "code",
   "execution_count": null,
   "metadata": {},
   "outputs": [],
   "source": [
    "# normalize and define psi_0\n",
    "norm = np.sqrt(np.power(alpha, 2) + np.power(beta, 2))\n",
    "alpha, beta = alpha / norm, beta / norm\n",
    "psi_0 = alpha * basis(2, 0) + beta * basis(2, 1)\n",
    "\n",
    "# substitution variables\n",
    "Omega = A * np.cos(phi) + np.sin(phi) # Omega = e^(i * phi)\n",
    "\n",
    "# Hamiltonian(s)\n",
    "def driving(t, args):\n",
    "    return  + A * np.cos(omega_d * t + phi)\n",
    "\n",
    "H0 = (omega_q * sigmaz()) / 2\n",
    "H1 = sigmax()\n",
    "H = [H0, [H1, driving]]\n",
    "\n",
    "# time variable\n",
    "t_list = np.linspace(0, 7, 100)"
   ]
  },
  {
   "cell_type": "code",
   "execution_count": null,
   "metadata": {},
   "outputs": [],
   "source": [
    "def plot_bloch():\n",
    "    fig = plt.figure()\n",
    "    ax = fig.add_subplot(projection='3d')\n",
    "    ax.set_xlim(-1, 1)\n",
    "    ax.set_ylim(-1, 1)\n",
    "    ax.set_zlim(-1, 1)\n",
    "\n",
    "    result = sesolve(H, psi_0, t_list)\n",
    "    \n",
    "    alpha = [result.states[i][0] for i in range(len(result.states))]\n",
    "    beta = [result.states[i][1] for i in range(len(result.states))]\n",
    "\n",
    "    x = 2 * np.real(np.conjugate(alpha) * beta)\n",
    "    y = 2 * np.imag(np.conjugate(alpha) * beta)\n",
    "    z = alpha * np.conjugate(alpha) - beta * np.conjugate(beta)\n",
    "\n",
    "    ax.plot(x, y, z, label='qubit')\n",
    "    \n",
    "    plt.title(\"Qubit Bloch Sphere\")\n",
    "    plt.show()\n",
    "\n",
    "plot_bloch()"
   ]
  },
  {
   "cell_type": "code",
   "execution_count": null,
   "metadata": {},
   "outputs": [],
   "source": [
    "def plot_bloch_qutip():\n",
    "    result = sesolve(H, psi_0, t_list)\n",
    "\n",
    "    bloch = Bloch()\n",
    "    bloch.add_states(result.states)\n",
    "    \n",
    "    bloch.make_sphere()\n",
    "    plt.title(\"Qubit Bloch Sphere\")\n",
    "    plt.show()\n",
    "\n",
    "plot_bloch_qutip()"
   ]
  }
 ],
 "metadata": {
  "kernelspec": {
   "display_name": "base",
   "language": "python",
   "name": "python3"
  },
  "language_info": {
   "codemirror_mode": {
    "name": "ipython",
    "version": 3
   },
   "file_extension": ".py",
   "mimetype": "text/x-python",
   "name": "python",
   "nbconvert_exporter": "python",
   "pygments_lexer": "ipython3",
   "version": "3.12.7"
  }
 },
 "nbformat": 4,
 "nbformat_minor": 2
}
