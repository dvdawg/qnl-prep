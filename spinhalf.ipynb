{
 "cells": [
  {
   "cell_type": "markdown",
   "metadata": {},
   "source": [
    "Imports"
   ]
  },
  {
   "cell_type": "code",
   "execution_count": 1,
   "metadata": {},
   "outputs": [],
   "source": [
    "%matplotlib qtagg\n",
    "import numpy as np\n",
    "from scipy import constants\n",
    "import matplotlib.pyplot as plt\n",
    "from qutip import * \n",
    "import qutip as qt"
   ]
  },
  {
   "cell_type": "markdown",
   "metadata": {},
   "source": [
    "System parameters"
   ]
  },
  {
   "cell_type": "code",
   "execution_count": 2,
   "metadata": {},
   "outputs": [],
   "source": [
    "omega = 1.0 # H = omega * sigma_z\n",
    "alpha = 1 / 2\n",
    "beta = np.sqrt(3) / 2 # psi = alpha |0> + beta |1>\n",
    "t_list = np.linspace(0, 100, 100)  # time points\n",
    "psi0 = alpha * basis(2, 0) + beta * basis(2, 1)  # qobj init state\n",
    "\n",
    "H = omega * sigmaz()"
   ]
  },
  {
   "cell_type": "code",
   "execution_count": null,
   "metadata": {},
   "outputs": [],
   "source": [
    "def qubit_time_evolution_qutip(hamiltonian, alpha, beta, tlist):\n",
    "    norm = np.sqrt(abs(alpha)**2 + abs(beta)**2)\n",
    "    alpha, beta = alpha / norm, beta / norm\n",
    "    \n",
    "    initial_state = alpha * basis(2, 0) + beta * basis(2, 1)\n",
    "    \n",
    "    result = sesolve(hamiltonian, initial_state, tlist)\n",
    "\n",
    "    bloch = Bloch()\n",
    "    bloch.add_states(result.states)\n",
    "    \n",
    "    bloch.make_sphere()\n",
    "\n",
    "    plt.title(\"Qubit Bloch Sphere\")\n",
    "    plt.show()\n",
    "\n",
    "qubit_time_evolution_qutip(H, alpha, beta, t_list)\n"
   ]
  }
 ],
 "metadata": {
  "kernelspec": {
   "display_name": "base",
   "language": "python",
   "name": "python3"
  },
  "language_info": {
   "codemirror_mode": {
    "name": "ipython",
    "version": 3
   },
   "file_extension": ".py",
   "mimetype": "text/x-python",
   "name": "python",
   "nbconvert_exporter": "python",
   "pygments_lexer": "ipython3",
   "version": "3.12.7"
  }
 },
 "nbformat": 4,
 "nbformat_minor": 2
}
